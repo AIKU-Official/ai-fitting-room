{
 "cells": [
  {
   "cell_type": "code",
   "execution_count": 22,
   "metadata": {},
   "outputs": [
    {
     "data": {
      "text/plain": [
       "(1024, 768)"
      ]
     },
     "execution_count": 22,
     "metadata": {},
     "output_type": "execute_result"
    }
   ],
   "source": [
    "from PIL import Image,ImageDraw\n",
    "import numpy as np\n",
    "# file_name = '0000'\n",
    "file_name = '013563'\n",
    "parse = Image.open(f'./sample_data/lower_body/{file_name}_4.png')\n",
    "img = Image.open(f'./sample_data/lower_body/{file_name}_0(img).jpg')\n",
    "\n",
    "# parse = Image.open(f'./check_data/{file_name}_parse.png')\n",
    "# img = Image.open(f'./check_data/{file_name}_img.jpeg')\n",
    "np.set_printoptions(threshold=np.inf, linewidth=np.inf)\n",
    "parse_array = np.array(parse)\n",
    "parse_array.shape"
   ]
  },
  {
   "cell_type": "code",
   "execution_count": 26,
   "metadata": {},
   "outputs": [
    {
     "data": {
      "text/plain": [
       "array([[416.,   0.],\n",
       "       [360., 124.],\n",
       "       [274., 118.],\n",
       "       [242., 282.],\n",
       "       [272., 386.],\n",
       "       [442., 128.],\n",
       "       [468., 292.],\n",
       "       [484., 430.],\n",
       "       [322., 376.],\n",
       "       [316., 638.],\n",
       "       [310., 896.],\n",
       "       [428., 384.],\n",
       "       [464., 650.],\n",
       "       [428., 888.],\n",
       "       [398.,   0.],\n",
       "       [426.,   0.],\n",
       "       [348.,   0.],\n",
       "       [ -2.,  -2.]])"
      ]
     },
     "execution_count": 26,
     "metadata": {},
     "output_type": "execute_result"
    }
   ],
   "source": [
    "import json\n",
    "with open(f\"./sample_data/lower_body/{file_name}_2.json\",'r') as f:\n",
    "# with open(f\"./check_data/{file_name}_2.json\",'r') as f:\n",
    "    pose_label = json.load(f)\n",
    "    pose_data = pose_label['keypoints']\n",
    "    pose_data = np.array(pose_data)\n",
    "    pose_data = pose_data[:, :2]*2\n",
    "pose_data"
   ]
  },
  {
   "cell_type": "code",
   "execution_count": 23,
   "metadata": {},
   "outputs": [],
   "source": [
    "from PIL import Image\n",
    "import numpy as np\n",
    "# original_parse = Image.open('sample_data/upper_body/000000_5.png')\n",
    "# np_parse_original = np.array(original_parse)\n",
    "# print(np_parse_original.shape)"
   ]
  },
  {
   "cell_type": "code",
   "execution_count": 11,
   "metadata": {},
   "outputs": [],
   "source": [
    "np.set_printoptions(threshold=np.inf, linewidth=np.inf)"
   ]
  },
  {
   "cell_type": "code",
   "execution_count": null,
   "metadata": {},
   "outputs": [],
   "source": []
  },
  {
   "cell_type": "code",
   "execution_count": 24,
   "metadata": {},
   "outputs": [],
   "source": [
    "parse_head = ((parse_array == 1).astype(np.float32) +\n",
    "                  (parse_array == 2).astype(np.float32)+\n",
    "                  (parse_array == 11).astype(np.float32)+\n",
    "                  (parse_array == 3).astype(np.float32)\n",
    "                  )\n",
    "parse_upper = (\n",
    "            (parse_array == 4).astype(np.float32) +\n",
    "            (parse_array == 14).astype(np.float32) +\n",
    "            (parse_array == 15).astype(np.float32) \n",
    "            )\n",
    "parse_lower = (\n",
    "                   (parse_array == 5).astype(np.float32) +\n",
    "                   (parse_array == 6).astype(np.float32) +\n",
    "            (parse_array == 8).astype(np.float32) +\n",
    "                   (parse_array == 12).astype(np.float32) +\n",
    "                   (parse_array == 13).astype(np.float32) )\n",
    "parse_hand = ((parse_array_original == 9).astype(np.float32) +\n",
    "                (parse_array_original == 10).astype(np.float32))"
   ]
  },
  {
   "cell_type": "code",
   "execution_count": 27,
   "metadata": {},
   "outputs": [],
   "source": [
    "r = 20\n",
    "img = np.array(img)\n",
    "img[parse_lower>0,:] = 0\n",
    "img = Image.fromarray(img)\n",
    "agnostic = img.copy()\n",
    "\n",
    "# agnostic.show()\n",
    "\n",
    "agnostic_draw = ImageDraw.Draw(agnostic)\n",
    "length_a = np.linalg.norm(pose_data[5] - pose_data[2]+1e-8)\n",
    "length_b = np.linalg.norm(pose_data[11] - pose_data[8]+1e-8)\n",
    "point = (pose_data[8] + pose_data[11]) / 2\n",
    "pose_data[8] = point + (pose_data[8] - point) / length_b * length_a\n",
    "pose_data[11] = point + (pose_data[11] - point) / length_b * length_a\n",
    "\n",
    "# mask legs\n",
    "agnostic_draw.line([tuple(pose_data[i]) for i in [8, 11]], 'black', width=r*5)\n",
    "# agnostic.show()\n",
    "\n",
    "for i in [9, 12]:\n",
    "# for i in [8, 9, 11, 12]:\n",
    "    pointx, pointy = pose_data[i]\n",
    "    agnostic_draw.ellipse((pointx-r*3, pointy-r*3, pointx+r*3, pointy+r*3), 'black', 'black')\n",
    "# agnostic.show()\n",
    "for i in [9,10,12,13]:\n",
    "    if (pose_data[i - 1, 0] == 0.0 and pose_data[i - 1, 1] == 0.0) or (pose_data[i, 0] == 0.0 and pose_data[i, 1] == 0.0):\n",
    "        continue\n",
    "    agnostic_draw.line([tuple(pose_data[j]) for j in [i - 1, i]], 'black', width=r*5)\n",
    "    \n",
    "    pointx, pointy = pose_data[i]\n",
    "    if i in [10,13]:\n",
    "        pass#agnostic_draw.ellipse((pointx-r, pointy-r, pointx+r, pointy+r), 'black', 'black')\n",
    "    else:\n",
    "        agnostic_draw.ellipse((pointx-r*2, pointy-r*2, pointx+r*2, pointy+r*2), 'black', 'black')\n",
    "\n",
    "# agnostic.paste(img, None, Image.fromarray(np.uint8(parse_head * 255), 'L'))\n",
    "# agnostic.paste(img, None, Image.fromarray(np.uint8(parse_upper * 255), 'L'))\n",
    "# agnostic.paste(img, None, Image.fromarray(np.uint8(parse_hand * 255), 'L'))\n",
    "\n",
    "agnostic.show()\n",
    "agnostic.save(\"./check_fig.png\")"
   ]
  },
  {
   "cell_type": "code",
   "execution_count": null,
   "metadata": {},
   "outputs": [],
   "source": []
  }
 ],
 "metadata": {
  "kernelspec": {
   "display_name": "gpu",
   "language": "python",
   "name": "python3"
  },
  "language_info": {
   "codemirror_mode": {
    "name": "ipython",
    "version": 3
   },
   "file_extension": ".py",
   "mimetype": "text/x-python",
   "name": "python",
   "nbconvert_exporter": "python",
   "pygments_lexer": "ipython3",
   "version": "3.9.17"
  },
  "orig_nbformat": 4
 },
 "nbformat": 4,
 "nbformat_minor": 2
}
