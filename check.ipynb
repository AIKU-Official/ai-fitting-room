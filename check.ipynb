{
 "cells": [
  {
   "cell_type": "code",
   "execution_count": 1,
   "metadata": {},
   "outputs": [
    {
     "data": {
      "text/plain": [
       "(1024, 768)"
      ]
     },
     "execution_count": 1,
     "metadata": {},
     "output_type": "execute_result"
    }
   ],
   "source": [
    "from PIL import Image,ImageDraw\n",
    "import numpy as np\n",
    "file_name = '0000'\n",
    "parse = Image.open(f'./check_data/{file_name}_parse.png')\n",
    "img = Image.open(f'./check_data/{file_name}_img.jpeg')\n",
    "np.set_printoptions(threshold=np.inf, linewidth=np.inf)\n",
    "parse_array = np.array(parse)\n",
    "parse_array.shape"
   ]
  },
  {
   "cell_type": "code",
   "execution_count": 3,
   "metadata": {},
   "outputs": [
    {
     "data": {
      "text/plain": [
       "array([[352.,   0.],\n",
       "       [350., 120.],\n",
       "       [262., 120.],\n",
       "       [244., 280.],\n",
       "       [244., 418.],\n",
       "       [438., 120.],\n",
       "       [462., 274.],\n",
       "       [462., 414.],\n",
       "       [294., 422.],\n",
       "       [292., 636.],\n",
       "       [302., 816.],\n",
       "       [404., 418.],\n",
       "       [402., 630.],\n",
       "       [386., 816.],\n",
       "       [330.,   0.],\n",
       "       [372.,   0.],\n",
       "       [306.,   0.],\n",
       "       [402.,   0.]])"
      ]
     },
     "execution_count": 3,
     "metadata": {},
     "output_type": "execute_result"
    }
   ],
   "source": [
    "import json\n",
    "with open(f\"./check_data/{file_name}_2.json\",'r') as f:\n",
    "    pose_label = json.load(f)\n",
    "    pose_data = pose_label['keypoints']\n",
    "    pose_data = np.array(pose_data)\n",
    "    pose_data = pose_data[:, :2]*2\n",
    "pose_data"
   ]
  },
  {
   "cell_type": "code",
   "execution_count": 4,
   "metadata": {},
   "outputs": [],
   "source": [
    "parse_head = ((parse_array == 23).astype(np.float32) +\n",
    "                  (parse_array == 24).astype(np.float32) )\n",
    "parse_lower = (\n",
    "                   (parse_array == 7).astype(np.float32) +\n",
    "                   (parse_array == 8).astype(np.float32) +\n",
    "                   (parse_array == 9).astype(np.float32) +\n",
    "                   (parse_array == 10).astype(np.float32) +\n",
    "                   (parse_array == 11).astype(np.float32) +\n",
    "                   (parse_array == 12).astype(np.float32) +\n",
    "                   (parse_array == 13).astype(np.float32) +\n",
    "                   (parse_array == 14).astype(np.float32))\n",
    "\n",
    "parse_upper = (\n",
    "            (parse_array == 1).astype(np.float32) +\n",
    "            (parse_array == 2).astype(np.float32) +\n",
    "            (parse_array == 15).astype(np.float32) +\n",
    "            (parse_array == 16).astype(np.float32) +\n",
    "            (parse_array == 17).astype(np.float32) +\n",
    "            (parse_array == 18).astype(np.float32) +\n",
    "            (parse_array == 19).astype(np.float32) +\n",
    "            (parse_array == 20).astype(np.float32) +\n",
    "            (parse_array == 21).astype(np.float32) +\n",
    "            (parse_array == 22).astype(np.float32))\n",
    "\n",
    "parse_hand = ((parse_array == 3).astype(np.float32) +\n",
    "                (parse_array == 4).astype(np.float32))\n",
    "# parse_hand_tmp = parse_hand.copy()\n",
    "# r = 0\n",
    "# for pair in [[3,4], [6,7]]:\n",
    "#     pointx, pointy = pose_data[pair[1]]+(pose_data[pair[1]]-pose_data[pair[0]])*0.3\n",
    "#     pointx, pointy = int(pointx), int(pointy)\n",
    "#     if pointx>0 and pointy>0:\n",
    "#         parse_hand_tmp[pointy-r:pointy+r,pointx-r:pointx+r] = 0\n",
    "# parse_hand[parse_hand_tmp>0]=0\n"
   ]
  },
  {
   "cell_type": "code",
   "execution_count": 5,
   "metadata": {},
   "outputs": [],
   "source": [
    "r = 10\n",
    "img = np.array(img)\n",
    "img[parse_lower>0,:] = 0\n",
    "img = Image.fromarray(img)\n",
    "agnostic = img.copy()\n",
    "\n",
    "agnostic.show()\n",
    "\n",
    "agnostic_draw = ImageDraw.Draw(agnostic)\n",
    "length_a = np.linalg.norm(pose_data[5] - pose_data[2]+1e-8)\n",
    "length_b = np.linalg.norm(pose_data[11] - pose_data[8]+1e-8)\n",
    "point = (pose_data[8] + pose_data[11]) / 2\n",
    "pose_data[8] = point + (pose_data[8] - point) / length_b * length_a\n",
    "pose_data[11] = point + (pose_data[11] - point) / length_b * length_a\n",
    "\n",
    "# mask legs\n",
    "agnostic_draw.line([tuple(pose_data[i]) for i in [8, 11]], 'black', width=r*5)\n",
    "agnostic.show()\n",
    "\n",
    "for i in [9, 12]:\n",
    "# for i in [8, 9, 11, 12]:\n",
    "    pointx, pointy = pose_data[i]\n",
    "    agnostic_draw.ellipse((pointx-r*4, pointy-r*4, pointx+r*4, pointy+r*4), 'black', 'black')\n",
    "# agnostic.show()\n",
    "for i in [9,10,12,13]:\n",
    "    if (pose_data[i - 1, 0] == 0.0 and pose_data[i - 1, 1] == 0.0) or (pose_data[i, 0] == 0.0 and pose_data[i, 1] == 0.0):\n",
    "        continue\n",
    "    agnostic_draw.line([tuple(pose_data[j]) for j in [i - 1, i]], 'black', width=r*5)\n",
    "    \n",
    "    pointx, pointy = pose_data[i]\n",
    "    if i in [10,13]:\n",
    "        pass#agnostic_draw.ellipse((pointx-r, pointy-r, pointx+r, pointy+r), 'black', 'black')\n",
    "    else:\n",
    "        agnostic_draw.ellipse((pointx-r*2, pointy-r*2, pointx+r*2, pointy+r*2), 'black', 'black')\n",
    "\n",
    "# agnostic.show()\n",
    "\n",
    "# mask torso\n",
    "# for i in [8, 11]:\n",
    "#     pointx, pointy = pose_data[i]\n",
    "#     if pointx<1 and pointy <1:\n",
    "#         continue\n",
    "#     agnostic_draw.ellipse((pointx-r*3, pointy-r*6, pointx+r*3, pointy+r*6), 'black', 'black')\n",
    "# line_points = []\n",
    "# for i in [2, 8]:\n",
    "#     if pose_data[i][0]<1 and pose_data[i][1]<1:\n",
    "#         continue\n",
    "#     line_points.append(tuple(pose_data[i]))\n",
    "# agnostic_draw.line(line_points, 'black', width=r*6)\n",
    "# line_points = []\n",
    "# for i in [5, 11]:\n",
    "#     if pose_data[i][0]<1 and pose_data[i][1]<1:\n",
    "#         continue\n",
    "#     line_points.append(tuple(pose_data[i]))\n",
    "# agnostic_draw.line(line_points, 'black', width=r*6)\n",
    "# line_points = []\n",
    "# for i in [8, 11]:\n",
    "#     if pose_data[i][0]<1 and pose_data[i][1]<1:\n",
    "#         continue\n",
    "#     line_points.append(tuple(pose_data[i]))\n",
    "# agnostic_draw.line(line_points, 'black', width=r*12)\n",
    "# line_points = []\n",
    "# for i in [2, 5, 11, 8]:\n",
    "#     if pose_data[i][0]<1 and pose_data[i][1]<1:\n",
    "#         continue\n",
    "# #         print(pose_data[i])\n",
    "#     line_points.append(tuple(pose_data[i]))\n",
    "# if len(line_points)>1 and len(line_points[0])>1:\n",
    "#     agnostic_draw.polygon(line_points, 'black', 'black')\n",
    "\n",
    "\n",
    "# agnostic.paste(img, None, Image.fromarray(np.uint8(parse_head * 255), 'L'))\n",
    "agnostic.paste(img, None, Image.fromarray(np.uint8(parse_upper * 255), 'L'))\n",
    "agnostic.paste(img, None, Image.fromarray(np.uint8(parse_hand * 255), 'L'))\n",
    "\n",
    "agnostic.show()\n",
    "agnostic.save(\"./check_fig.png\")"
   ]
  }
 ],
 "metadata": {
  "kernelspec": {
   "display_name": "gpu",
   "language": "python",
   "name": "python3"
  },
  "language_info": {
   "codemirror_mode": {
    "name": "ipython",
    "version": 3
   },
   "file_extension": ".py",
   "mimetype": "text/x-python",
   "name": "python",
   "nbconvert_exporter": "python",
   "pygments_lexer": "ipython3",
   "version": "3.9.17"
  },
  "orig_nbformat": 4
 },
 "nbformat": 4,
 "nbformat_minor": 2
}
